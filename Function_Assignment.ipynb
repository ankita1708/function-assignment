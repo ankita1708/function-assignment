{
  "nbformat": 4,
  "nbformat_minor": 0,
  "metadata": {
    "colab": {
      "provenance": []
    },
    "kernelspec": {
      "name": "python3",
      "display_name": "Python 3"
    },
    "language_info": {
      "name": "python"
    }
  },
  "cells": [
    {
      "cell_type": "markdown",
      "source": [
        "#Theory Questions:\n",
        "#1.what is the difference between a function and a method in python?\n",
        " - # Function:-A function is a standalone block of code designed to perform a\n",
        "     specific task. for eg:\n",
        "     def substract(a,b):\n",
        "     return(a-b)\n",
        "     print(substract(a-b)\n",
        "\n",
        "     output  2\n",
        "  # methods:- a method is a function associated with an object or class,       is  called using dot notation on an object. for eg:\n",
        "      class ABC:\n",
        "        def method_ABC(self):\n",
        "          print(\" i am in method_ABC of ABC class\")\n",
        "\n",
        "          class_ref = ABC() # object of ABC class\n",
        "          output: i am in method_abc of abc class\n",
        "#2.explain the concept of function arguments and parameters in python?\n",
        " - # parameters: parameters are placeholders defined in a function definition.\n",
        "     are variables listed inside the parentheses in a function definition.\n",
        "       eg:- def greet(name,greeting):\n",
        "     name and greeting are parameters.\n",
        "     # arguments: arguments are the actual value passed to the function when it's called.provide the actual data the function will work with\n",
        "     eg:- greet(\"alice\",\"hello\")\n",
        "      'alice' and 'hello' are arguments.\n",
        "# 3.  what are the different ways to define and call a function in python?\n",
        "  - # define: define function are using the def keyword,followed by the  \n",
        "     function name,parenthese for parameters, and colon with the function body idented.\n",
        "     eg:- def greet(name): # defined a function name\"greet\".\n",
        "\n",
        "     #call: to call a function, you use the function name followed by parenthese, optionally including argument.\n",
        "     eg:- greet(\"alice\") # a call the greet function passing'alice' as a argument.\n",
        "# 4. what is the purpose of the return statement in a python function?\n",
        "  -# the python return statement marks the end of a function and specifies the\n",
        "     value or values to pass back from the function\n",
        "     eg: def sum_of_numbers(a,b):\n",
        "        return a+b     # returning of sum_of_number a and b\n",
        "# 5. what are iterators in python and how do they differ from iterables?\n",
        "  - # An iterable is basically an object that any user can iterate over.\n",
        "     lists, sets, string and dictionaries are iterable.\n",
        "     #  An iterator is also an object that helps a user in iterating over another object that is iterable we can generate an iterator. when we pass the object to the iter() method.\n",
        "     mytuple = (\"apple\",\"banana\",\"cherry\")\n",
        "     myit = iter(mytuple)\n",
        "     print(next(myit))\n",
        "     print(next(myit))\n",
        "     print(next(myit))\n",
        "     output:\n",
        "     apple, banana, cherry\n",
        "#6. explain the concept of generators in python and how they are defined?\n",
        "  - # in python, a generator is a function that returns a iterator that  \n",
        "      produces\n",
        "      a sequqnce of values when iterated over.\n",
        "      generators are useful when we want to produce a large sequence of value but we don't want to store all of them in memory at once.\n",
        "      we can define a generator function using the def keyword but return statement we use the yield statement\n",
        "      eg: def  generator_name(abc):\n",
        "          # statement\n",
        "        yield something\n",
        "        #  yield keyword is used to produce a value from the generator.\n",
        "# 7. what are the advantage of using generators over regular functions?\n",
        "   - # generators: they can be paused in the middle of execution and resumed.\n",
        "                   they can return multipple values through multiple iterators.\n",
        "                   they keeps current value in memory.\n",
        "                   they are used generate value that can be iterate over.\n",
        "     #  regular: they runs to completion and returns a value.\n",
        "                 they return a single value.\n",
        "                 they create a large amount of meomry overhead.\n",
        "                 they are used when to perform a task and return a result.\n",
        "\n",
        "\n",
        "# 8.what is lambda function in python and when is it typically used?\n",
        "  - # lambda function also known as anonymous functions, single-expression\n",
        "     function which is automatically returned define using the lambda keyword.\n",
        "     lambda function are defined using the syntax:\n",
        "     lambda argument:expression.\n",
        "     lambda are typically used for short, throeaway operations, especially when used with higher-order function like map, filter, and sorted.\n",
        "     eg: def square(a):\n",
        "         return a*a\n",
        "         square = lambda a:a*a\n",
        "         square(5)\n",
        "         output 25\n",
        "# 9. explain the purpose and usuage of the map() function in python.\n",
        "  - # map()- applies a function to all the items in an iterable(list,tuple,etc)\n",
        "     map() gives a list of result after applying the function to each item of the iterable.\n",
        "     map() syntax: map(function,iterable)\n",
        "     eg: def square(a):\n",
        "     return a*a\n",
        "     x =  map (square,[1,2,3,4])\n",
        "     print(x)\n",
        "     print(list(x))\n",
        "\n",
        "     output[1,2,9,16]\n",
        "# 10. what is the difference between map(),reduce(), and filter() function in\n",
        "      python ?\n",
        "  - # map(): gives a list of result after applying the function to each item of\n",
        "       the iterable. syntax: map(function,iterable)\n",
        "      filter(): gives a list of items for which the function returns true\n",
        "      syntax: filter(function,iterable)\n",
        "      reduce(): gives a single value after applying the function to each item of the iterable . syntax: reduce(function,iterable)\n",
        "      eg: def square(a):\n",
        "      return a*a\n",
        "      lambda a:a*a\n",
        "      # map() function is using\n",
        "      print(list(map(lambda a : a>=3,[1,2,3,4])))\n",
        "       output: [False,False,True,True,True]\n",
        "\n",
        "      print(list(filter(lambda a: a>=3,[1,2,3,4])))\n",
        "       output: [3,4,5]\n",
        "       from functools import reduce\n",
        "       print(reduce(add,list))\n",
        "       output: 10\n",
        "# 11. using pen and paper write the internal mechanism for sum operation using\n",
        "      reduce function on this given list [47,11,42,13]:\n",
        "   -  this answer images in google docs.\n",
        "    \n",
        "\n",
        "\n"
      ],
      "metadata": {
        "id": "YzVj-kRTHgYL"
      }
    },
    {
      "cell_type": "code",
      "source": [
        "# practical questions:\n",
        "#1. write a python function that takes a list of numbers as input and return the sum of all even numbers in the list.\n",
        "def sum_even(a):\n",
        "  sum_=0\n",
        "  for value in a:\n",
        "    if value % 2==0:\n",
        "      sum_+=value\n",
        "  return sum_\n",
        "print(sum_even([10,5,6,11]))"
      ],
      "metadata": {
        "id": "p3IMTgp7HVcN",
        "colab": {
          "base_uri": "https://localhost:8080/"
        },
        "outputId": "36f09a79-efab-4b3d-d1ee-32397363b376"
      },
      "execution_count": null,
      "outputs": [
        {
          "output_type": "stream",
          "name": "stdout",
          "text": [
            "16\n"
          ]
        }
      ]
    },
    {
      "cell_type": "code",
      "source": [
        "# 2. create a python function that accepts a string and returns the reverse of the string.\n",
        "def reverse(itr):\n",
        "  return itr[::-1]\n",
        "str1 ='pw skills'\n",
        "print(\"original string:\",str1)\n",
        "\n",
        "print(\"reverse string:\",reverse(\"pw skills\"))\n",
        "\n"
      ],
      "metadata": {
        "id": "XAVs2amTHVjt",
        "colab": {
          "base_uri": "https://localhost:8080/"
        },
        "outputId": "5ac2a405-1269-4d1a-c447-5008d2d16fe4"
      },
      "execution_count": null,
      "outputs": [
        {
          "output_type": "stream",
          "name": "stdout",
          "text": [
            "original string: pw skills\n",
            "reverse string: slliks wp\n"
          ]
        }
      ]
    },
    {
      "cell_type": "code",
      "source": [
        "# 3. implement a python function that takes a list of integers and return a new list containg the squares of each numbers.\n",
        "def square(a):\n",
        "  return a*a\n",
        "x = map(square,[1,2,3,4,5])\n",
        "print(x)\n",
        "print(list(x))\n"
      ],
      "metadata": {
        "id": "WjJkXYdjHcvI",
        "colab": {
          "base_uri": "https://localhost:8080/"
        },
        "outputId": "374edbe7-9691-4a63-f57f-e29278d7b552"
      },
      "execution_count": null,
      "outputs": [
        {
          "output_type": "stream",
          "name": "stdout",
          "text": [
            "<map object at 0x7e5ce5ffb4f0>\n",
            "[1, 4, 9, 16, 25]\n"
          ]
        }
      ]
    },
    {
      "cell_type": "code",
      "source": [
        "# 4. write a python function that checks if a given number is prime or not from 1 to 200.\n",
        "def is_prime(num):\n",
        "      if num<=1:\n",
        "        return False\n",
        "      for i in range(2,int(num**0.5)+1):\n",
        "        if num % i == 0 :\n",
        "          return False\n",
        "      return True\n",
        "number= int(input(\"enter the number:\"))\n",
        "if is_prime(number):\n",
        "         print(f\"{number} is a prime number\")\n",
        "else:\n",
        "        print(f\"{number} is a not prime number\")"
      ],
      "metadata": {
        "id": "2OKVw0vGHdvx",
        "colab": {
          "base_uri": "https://localhost:8080/"
        },
        "outputId": "98c5dd06-a2f2-412e-82b1-0b8785714a2e"
      },
      "execution_count": null,
      "outputs": [
        {
          "output_type": "stream",
          "name": "stdout",
          "text": [
            "enter the number:7\n",
            "7 is a prime number\n"
          ]
        }
      ]
    },
    {
      "cell_type": "code",
      "source": [
        "# 5.create an iterator class in python that generates the fibonacci sequence up to a specified number of terms.\n",
        "nterms = int(input(\"how many terms?\"))\n",
        "# first tuwo terms\n",
        "n1,n2 =0,1\n",
        "count = 0\n",
        "# check if the number of term is valid\n",
        "if nterms<=0:\n",
        "  print(\"please enter a positive integer\")\n",
        "  # if the there is only one term, return n1\n",
        "elif nterms == 1:\n",
        "    print(\"fibonacci sequence upto\",nterms,\":\")\n",
        "    print(n1)\n",
        "    # generate fibonacci sequence\n",
        "else:\n",
        "  print(\"fibonacci sequence:\")\n",
        "  while count<nterms:\n",
        "    print(n1)\n",
        "    nth = n1+n2\n",
        "    # update values\n",
        "    n1 =n2\n",
        "    n2 = nth\n",
        "    count+=1"
      ],
      "metadata": {
        "colab": {
          "base_uri": "https://localhost:8080/"
        },
        "id": "p54OhH6_9EAA",
        "outputId": "d1faade1-14d4-432d-965b-f1555b2ecda5"
      },
      "execution_count": null,
      "outputs": [
        {
          "output_type": "stream",
          "name": "stdout",
          "text": [
            "how many terms?7\n",
            "fibonacci sequence:\n",
            "0\n",
            "1\n",
            "1\n",
            "2\n",
            "3\n",
            "5\n",
            "8\n"
          ]
        }
      ]
    },
    {
      "cell_type": "code",
      "source": [
        "# 6.write a generator function in python that yields the power of 2 upto given explonent\n",
        "def squares(n):\n",
        "  power = n\n",
        "  square_list =[]\n",
        "  for i in range(1,n+1):\n",
        "    square_list.append(2**i)\n",
        "  return square_list\n",
        "print (squares(4))\n"
      ],
      "metadata": {
        "colab": {
          "base_uri": "https://localhost:8080/"
        },
        "id": "wR14ptJ59EM9",
        "outputId": "f3253569-49bd-4dac-a347-3d52a3c79516"
      },
      "execution_count": null,
      "outputs": [
        {
          "output_type": "stream",
          "name": "stdout",
          "text": [
            "[2, 4, 8, 16]\n"
          ]
        }
      ]
    },
    {
      "cell_type": "code",
      "source": [
        "# 7.implement a generator function that reads a file line by line and yields each line as a string.\n",
        "def read_file_line_by_line(file_path):\n",
        "      with open (file_path,'r') as file:\n",
        "       for line in file:\n",
        "        yield line.strip()\n",
        "      # usuage example\n",
        "       file_path = \"large_text_file.txt\"\n",
        "for line in read_file_line_by_line,(\"large_text_file.txt\"):\n",
        " print(line)"
      ],
      "metadata": {
        "colab": {
          "base_uri": "https://localhost:8080/"
        },
        "id": "N4VWdlFaEsYI",
        "outputId": "73511757-8d34-441a-af43-3690a0653f59"
      },
      "execution_count": null,
      "outputs": [
        {
          "output_type": "stream",
          "name": "stdout",
          "text": [
            "<function read_file_line_by_line at 0x7e5ce5ed4cc0>\n",
            "large_text_file.txt\n"
          ]
        }
      ]
    },
    {
      "cell_type": "code",
      "source": [
        "# 8.use a lambda function in python to sort a list of tuples based on the second element of each tuple.\n",
        "# create a list of tuple named 'subject_marks'\n",
        "subject_marks =[('english',88),('science',90),('maths',95),('computer',90)]\n",
        "\n",
        "# display the original list of tuple\n",
        "print(\"original list of tuples:\")\n",
        "print(subject_marks)\n",
        "\n",
        "# sort the subject_marks,list of tuple based on\n",
        "subject_marks.sort(key=lambda x: x[1])\n",
        "\n",
        "# display the sorted\n",
        "print(\"\\n sorting the list of tuples:\")\n",
        "print(subject_marks)"
      ],
      "metadata": {
        "colab": {
          "base_uri": "https://localhost:8080/"
        },
        "id": "mxesj95mEsrK",
        "outputId": "585c651a-f989-4fc7-dae0-2451772dcee3"
      },
      "execution_count": null,
      "outputs": [
        {
          "output_type": "stream",
          "name": "stdout",
          "text": [
            "original list of tuples:\n",
            "[('english', 88), ('science', 90), ('maths', 95), ('computer', 90)]\n",
            "\n",
            " sorting the list of tuples:\n",
            "[('computer', 90), ('english', 88), ('maths', 95), ('science', 90)]\n"
          ]
        }
      ]
    },
    {
      "cell_type": "code",
      "source": [
        "# 9. write a python program that uses map(),to convert a list of temperatures from celsius to fahrenheit.\n",
        "def celsius_to_fahrenheit(celsius):\n",
        "  return (celsius*9/5)+32\n",
        "temperatures_celsius = [25,30,15,20]\n",
        "temperatures_fahrenheit = list(map(celsius_to_fahrenheit,temperatures_celsius))\n",
        "print(temperatures_fahrenheit)"
      ],
      "metadata": {
        "colab": {
          "base_uri": "https://localhost:8080/"
        },
        "id": "oOHBLllHb9rK",
        "outputId": "45073ad5-55f5-4c4d-b5ed-a1512de13b23"
      },
      "execution_count": null,
      "outputs": [
        {
          "output_type": "stream",
          "name": "stdout",
          "text": [
            "[77.0, 86.0, 59.0, 68.0]\n"
          ]
        }
      ]
    },
    {
      "cell_type": "code",
      "source": [
        "# 10. create a python program that uses filter() to remove all the vowels from a given string.\n",
        "a= list(\"sample\")\n",
        "def vowel(x):\n",
        "  v = ('a','e','i','o','u')\n",
        "  return x in v\n",
        "b = list(filter(vowel,a))\n",
        "print(\"vowels:\",b)\n",
        "print(\"no of vowels:\",len(b))\n",
        "\n"
      ],
      "metadata": {
        "colab": {
          "base_uri": "https://localhost:8080/"
        },
        "id": "UG2kYNOiTi3p",
        "outputId": "b98357bc-3c9e-4e76-f864-47d65e150b11"
      },
      "execution_count": null,
      "outputs": [
        {
          "output_type": "stream",
          "name": "stdout",
          "text": [
            "vowels: ['a', 'e']\n",
            "no of vowels: 2\n"
          ]
        }
      ]
    },
    {
      "cell_type": "code",
      "source": [
        "# 11. write a python program to using map() and lambda () function.the mini libarary book.\n",
        "book_data =[\n",
        "    (34587, \"learning python, mark lutz\",4,40.95),\n",
        "    (98762,\"programing python, mark lutz\",5,56.80),\n",
        "    (77226,\"head first python,paul barry\",3,32.95),\n",
        "    (88112, \"einfuhrung in python3, bernd klein\",1,24.99)\n",
        "]\n",
        "\n",
        "result = list(map(lambda item:(item[0],item[2]*item[3]+ 10 if item[2]*item[3]< 100 else item[2]*item[3]),book_data))\n",
        "print(result)"
      ],
      "metadata": {
        "colab": {
          "base_uri": "https://localhost:8080/"
        },
        "id": "XxYQ05dziK0d",
        "outputId": "40490c32-a689-432e-fbe6-2925a845a72b"
      },
      "execution_count": null,
      "outputs": [
        {
          "output_type": "stream",
          "name": "stdout",
          "text": [
            "[(34587, 163.8), (98762, 284.0), (77226, 108.85000000000001), (88112, 34.989999999999995)]\n"
          ]
        }
      ]
    }
  ]
}